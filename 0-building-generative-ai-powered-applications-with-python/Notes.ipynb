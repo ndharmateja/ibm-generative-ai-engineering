{
 "cells": [
  {
   "cell_type": "markdown",
   "id": "02d7dbac-d77f-4baa-8698-204fbf8a4c88",
   "metadata": {},
   "source": [
    "## Core generative AI models"
   ]
  },
  {
   "cell_type": "markdown",
   "id": "5da454b1-057a-473a-af66-d3e6dfd86b43",
   "metadata": {},
   "source": [
    "1. Variational autoencoders\n",
    "   - Diverse range of training data (images, text, audio etc)\n",
    "   - rapidly reduce the dimensionality\n",
    "   - contains encoder (compression), latent space, decoder (decompression)\n",
    "3. Generative adversarial networks\n",
    "4. Transformer-based models\n",
    "5. Diffusion models"
   ]
  },
  {
   "cell_type": "markdown",
   "id": "d6bf7af8-f99d-4494-b351-27d1377c1ae4",
   "metadata": {},
   "source": []
  },
  {
   "cell_type": "markdown",
   "id": "728c6a28-ccfa-4fb9-9f59-bd82e8c50b2d",
   "metadata": {},
   "source": []
  },
  {
   "cell_type": "markdown",
   "id": "fdcbff65-cf35-46b8-9d5c-f2c7478dab2b",
   "metadata": {},
   "source": []
  },
  {
   "cell_type": "markdown",
   "id": "781062e3-b21b-455d-9246-75d004684d69",
   "metadata": {},
   "source": []
  },
  {
   "cell_type": "markdown",
   "id": "19b3868c-a262-4205-b406-4df2329a377a",
   "metadata": {},
   "source": []
  },
  {
   "cell_type": "markdown",
   "id": "1465c6fb-8716-4708-b9cc-262b5d1361ab",
   "metadata": {},
   "source": []
  },
  {
   "cell_type": "markdown",
   "id": "436fcbd3-4dc7-4387-b794-bc55a9d66063",
   "metadata": {},
   "source": []
  },
  {
   "cell_type": "markdown",
   "id": "429810b7-408e-4e53-8cb4-86d0d6e4aab4",
   "metadata": {},
   "source": []
  }
 ],
 "metadata": {
  "kernelspec": {
   "display_name": "Python 3 (ipykernel)",
   "language": "python",
   "name": "python3"
  },
  "language_info": {
   "codemirror_mode": {
    "name": "ipython",
    "version": 3
   },
   "file_extension": ".py",
   "mimetype": "text/x-python",
   "name": "python",
   "nbconvert_exporter": "python",
   "pygments_lexer": "ipython3",
   "version": "3.12.9"
  }
 },
 "nbformat": 4,
 "nbformat_minor": 5
}
